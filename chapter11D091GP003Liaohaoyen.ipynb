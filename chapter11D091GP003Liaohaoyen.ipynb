{
  "nbformat": 4,
  "nbformat_minor": 0,
  "metadata": {
    "hide_input": false,
    "kernelspec": {
      "display_name": "Python 3",
      "language": "python",
      "name": "python3"
    },
    "language_info": {
      "codemirror_mode": {
        "name": "ipython",
        "version": 3
      },
      "file_extension": ".py",
      "mimetype": "text/x-python",
      "name": "python",
      "nbconvert_exporter": "python",
      "pygments_lexer": "ipython3",
      "version": "3.7.6"
    },
    "toc": {
      "base_numbering": 1,
      "nav_menu": {},
      "number_sections": true,
      "sideBar": true,
      "skip_h1_title": false,
      "title_cell": "Table of Contents",
      "title_sidebar": "Contents",
      "toc_cell": false,
      "toc_position": {},
      "toc_section_display": true,
      "toc_window_display": false
    },
    "varInspector": {
      "cols": {
        "lenName": 16,
        "lenType": 16,
        "lenVar": 40
      },
      "kernels_config": {
        "python": {
          "delete_cmd_postfix": "",
          "delete_cmd_prefix": "del ",
          "library": "var_list.py",
          "varRefreshCmd": "print(var_dic_list())"
        },
        "r": {
          "delete_cmd_postfix": ") ",
          "delete_cmd_prefix": "rm(",
          "library": "var_list.r",
          "varRefreshCmd": "cat(var_dic_list()) "
        }
      },
      "types_to_exclude": [
        "module",
        "function",
        "builtin_function_or_method",
        "instance",
        "_Feature"
      ],
      "window_display": false
    },
    "colab": {
      "name": "chapter11D091GP003Liaohaoyen.ipynb",
      "provenance": [],
      "collapsed_sections": [],
      "toc_visible": true
    }
  },
  "cells": [
    {
      "cell_type": "markdown",
      "metadata": {
        "id": "v8FUAjhG10oW"
      },
      "source": [
        "# Chapter 11"
      ]
    },
    {
      "cell_type": "markdown",
      "metadata": {
        "id": "ni5VDo5N10ob"
      },
      "source": [
        "#### Neural Network Example Code"
      ]
    },
    {
      "cell_type": "code",
      "metadata": {
        "colab": {
          "base_uri": "https://localhost:8080/"
        },
        "id": "VdNjEF_110oc",
        "outputId": "1874243b-b70f-4975-9e70-7c0a2ce9a1c7"
      },
      "source": [
        "import numpy as np\n",
        "import keras\n",
        "from keras.datasets import mnist\n",
        "from keras.models import Sequential\n",
        "from keras.layers import Dense, Flatten\n",
        "from keras.layers import Conv2D, MaxPooling2D\n",
        "from keras.utils import to_categorical\n",
        "import matplotlib.pyplot as plt\n",
        "\n",
        "# Size of image is 28x28x1 channel.\n",
        "input_shape = (28, 28, 1)\n",
        "batch_size = 64\n",
        "# number of possible outcomes [0-9]\n",
        "nclasses = 10\n",
        "epochs = 3\n",
        "\n",
        "# Fetch the train and test data.\n",
        "(x_train, y_train), (x_test, y_test) = mnist.load_data()\n",
        "\n",
        "# Normalize the image so that all pixel values\n",
        "# are between -0.5 and +0.5.\n",
        "x_train = (x_train / 255) - 0.5\n",
        "x_test = (x_test / 255) - 0.5\n",
        "\n",
        "# Reshape the train and test images to size 28x28x1.\n",
        "x_train = x_train.reshape((x_train.shape[0], *input_shape))\n",
        "x_test = x_test.reshape((x_test.shape[0], *input_shape))\n",
        "\n",
        "# Define the CNN model with 2 convolution layer and\n",
        "# 2 max pooling layer followed by a neural network\n",
        "# with 1 hidden layer of size 128 nodes.\n",
        "model = Sequential()\n",
        "model.add(Conv2D(32, kernel_size=(3, 3),\n",
        "                 activation='relu',\n",
        "                 input_shape=input_shape))\n",
        "model.add(MaxPooling2D(pool_size=(2, 2)))\n",
        "model.add(Conv2D(64, (3, 3), activation='relu'))\n",
        "model.add(MaxPooling2D(pool_size=(2, 2)))\n",
        "model.add(Flatten())\n",
        "model.add(Dense(128, activation='relu'))\n",
        "model.add(Dense(nclasses, activation='softmax'))\n",
        "\n",
        "# Compile the model using Adam optimizer and use\n",
        "# the cross entropy loss.\n",
        "model.compile(optimizer='adam',\n",
        "              loss='categorical_crossentropy',\n",
        "              metrics=['accuracy'])\n",
        "\n",
        "# Train the model.\n",
        "model.fit(x_train, to_categorical(y_train), epochs=epochs,\n",
        "          batch_size=batch_size)\n",
        "\n",
        "# Evaluate the model.\n",
        "score = model.evaluate(x_test, to_categorical(y_test), verbose=0)\n",
        "print('Test loss:', score[0])\n",
        "print('Test accuracy:', score[1])\n",
        "#plt.imshow(model)\n",
        "plt.show()\n"
      ],
      "execution_count": 4,
      "outputs": [
        {
          "output_type": "stream",
          "text": [
            "Epoch 1/3\n",
            "938/938 [==============================] - 45s 48ms/step - loss: 0.4037 - accuracy: 0.8792\n",
            "Epoch 2/3\n",
            "938/938 [==============================] - 44s 47ms/step - loss: 0.0511 - accuracy: 0.9846\n",
            "Epoch 3/3\n",
            "938/938 [==============================] - 44s 47ms/step - loss: 0.0309 - accuracy: 0.9904\n",
            "Test loss: 0.04596901684999466\n",
            "Test accuracy: 0.9850000143051147\n"
          ],
          "name": "stdout"
        }
      ]
    },
    {
      "cell_type": "code",
      "metadata": {
        "id": "unlXtX6e10od"
      },
      "source": [
        ""
      ],
      "execution_count": null,
      "outputs": []
    }
  ]
}