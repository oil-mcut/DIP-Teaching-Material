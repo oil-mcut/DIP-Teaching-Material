{
 "cells": [
  {
   "cell_type": "markdown",
   "metadata": {},
   "source": [
    "# Introduction to Python"
   ]
  },
  {
   "cell_type": "markdown",
   "metadata": {},
   "source": [
    "## Introduction"
   ]
  },
  {
   "cell_type": "markdown",
   "metadata": {},
   "source": [
    "We begin with an introduction to Python. We will then discuss the\n",
    "installation of Python with all the modules using the Anaconda\n",
    "distribution. Once the installation has been completed, we can begin\n",
    "exploring the various features of Python. We will quickly review the\n",
    "various data structures such as list, dictionary, and tuples and\n",
    "statements such as for-loop, if-else, iterators and list comprehension."
   ]
  },
  {
   "cell_type": "markdown",
   "metadata": {},
   "source": [
    "## What Is Python?"
   ]
  },
  {
   "cell_type": "markdown",
   "metadata": {},
   "source": [
    "Python is a popular high-level programming language. It can\n",
    "handle various programming tasks such as numerical computation,\n",
    "web development, database programming, network programming,\n",
    "parallel processing, etc.\n",
    "Python is popular for various reasons including:\n",
    "1. It is free.\n",
    "2. It is available on all the popular operating systems such as\n",
    "Windows, Mac or Linux.\n",
    "3. It is an interpreted language. Hence, programmers can test\n",
    "portions of code on the command line before incorporating it\n",
    "into their program. There is no need for compiling or linking.\n",
    "4. It gives the ability to program faster.\n",
    "5. It is syntactically simpler than C/C++/Fortran. Hence it is\n",
    "highly readable and easier to debug.\n",
    "6. It comes with various modules that are standard or can be\n",
    "installed in an existing Python installation. These modules\n",
    "can perform various tasks like reading and writing various\n",
    "files, scientific computation, visualization of data, etc.\n",
    "7. Programs written in Python can be run on various OS or\n",
    "platforms with little or no change.\n",
    "8. It is a dynamically typed language. Hence the data type of\n",
    "variables does not have to be declared prior to their use,\n",
    "making it easier for people with less coding experience.\n",
    "9. It has a dedicated developer and user community and is kept\n",
    "up to date.\n",
    "\n",
    "Although Python has many advantages that have made it one of the\n",
    "most popular interpreted languages, it has a couple of drawbacks that\n",
    "are discussed below:\n",
    "1. Since its focus is on the ability to program faster, the speed of\n",
    "execution suffers. A Python program might be 10 times or\n",
    "more slower (say) than an equivalent C program, but it will\n",
    "contain fewer lines of code and can be programmed to handle\n",
    "multiple data types easily. This drawback in the Python code\n",
    "can be overcome by converting the computationally intensive\n",
    "portions of the code to C/C++ or by the appropriate use of\n",
    "data structure and modules.\n",
    "2. Indentation of the code is not optional. This makes the code\n",
    "readable. However, a code with multiple loops and other\n",
    "constructs will be indented to the right, making it difficult to\n",
    "read the code."
   ]
  },
  {
   "cell_type": "markdown",
   "metadata": {},
   "source": [
    "## Python Environments"
   ]
  },
  {
   "cell_type": "markdown",
   "metadata": {},
   "source": [
    "There are  several Python environments from which to  choose.Some operating systems like Mac, Linux, Unix, etc. have a built-ininterpreter. The interpreter may contain all modules but is not turn-key  ready for  scientific computing. Specialized distributions havebeen created and  sold  to  the  scientific community,  pre-built withvarious Python scientific modules. When using these distributions,the users do not have to individually install scientific modules. If aparticular module that is of interest is not available in the distribution,it can be installed. One of the most popular distributions is Anaconda[Ana20b]. "
   ]
  },
  {
   "cell_type": "markdown",
   "metadata": {},
   "source": [
    "## Running a Python Program"
   ]
  },
  {
   "cell_type": "markdown",
   "metadata": {},
   "source": [
    "Using any Python interpreter (built-in or from a distribution), youcan  run  your program using the  command at  the  operating system(OS) command prompt. If the file firstprog.py is a Python filethat needs to be executed, then type the following command on theOS command prompt."
   ]
  },
  {
   "cell_type": "raw",
   "metadata": {},
   "source": [
    "python firsprog.py"
   ]
  },
  {
   "cell_type": "markdown",
   "metadata": {},
   "source": [
    "The  >>  is  the  terminal prompt and  >>  >  represents the  Python prompt."
   ]
  },
  {
   "cell_type": "markdown",
   "metadata": {},
   "source": [
    "## Basic Python Statements and Data Types"
   ]
  },
  {
   "cell_type": "markdown",
   "metadata": {},
   "source": [
    "__1) Comments__\n",
    "\n",
    "Comments are an important part of any programming language. InPython, a single line comment is denoted by a hash # at the beginningof  a  line.  Multiple lines can  be  commented by  using triple quotedstrings (triple single quotes or triple double quotes) at the beginningand at the end of the block."
   ]
  },
  {
   "cell_type": "markdown",
   "metadata": {},
   "source": [
    "__2)  Variables__\n",
    "\n",
    "Python is  a  dynamic language and  hence you  do  not  need tospecify the variable type as in C/C++. Variables can be imagined ascontainers of values. The values can be an integer, float, string, lists,tuples, dictionary, set, etc.\n"
   ]
  },
  {
   "cell_type": "markdown",
   "metadata": {},
   "source": [
    "__3) Operators__\n",
    "\n",
    "Python supports all the common arithmetic operators such as +, − ,*, /. It also supports the common comparison operators such as >, < ,= =, ! = , > =, < =, etc. In addition, through various modules Pythonprovides many operators for performing trigonometric, mathematical,geometric operations, etc."
   ]
  },
  {
   "cell_type": "markdown",
   "metadata": {},
   "source": [
    "__4) Loops__\n"
   ]
  },
  {
   "cell_type": "markdown",
   "metadata": {},
   "source": [
    "__5) if-else statement__\n",
    "\n",
    "The if-else  is  a  popular  conditional statement in  allprogramming languages including  Python. An  example of if-elif-else statement is shown below.\n",
    "\n"
   ]
  },
  {
   "cell_type": "markdown",
   "metadata": {},
   "source": [
    "  __# Demo in other file__"
   ]
  },
  {
   "cell_type": "markdown",
   "metadata": {},
   "source": [
    "### Data Structures"
   ]
  },
  {
   "cell_type": "markdown",
   "metadata": {},
   "source": [
    "The  real  power of  Python lies  in  the  liberal usage of  its  datastructure. The common criticism of Python is that it is slow comparedto  C/C++. This  is  especially true  if  multiple for-loops are  used inprogramming Python. "
   ]
  },
  {
   "cell_type": "markdown",
   "metadata": {},
   "source": [
    "- Lists\n",
    "- Tuples\n",
    "- Sets\n",
    "- Dictionaries\n",
    "\n",
    "__# Demo in other file__"
   ]
  },
  {
   "cell_type": "markdown",
   "metadata": {},
   "source": [
    "### File Handling"
   ]
  },
  {
   "cell_type": "markdown",
   "metadata": {},
   "source": [
    "This book is  on  image processing; however,  it  is  important to understand and be able to include in your code, reading and writingtext files so that the results of computation can be written or the inputparameters can be read from external sources. Python provides theability to  read  and  write files.  It  also  has  functions, methods andmodules for reading specialized formats such as the comma separatedvalue (csv) file, Microsoft Excel (xls) format, etc. We will look intoeach method in this section."
   ]
  },
  {
   "cell_type": "markdown",
   "metadata": {},
   "source": [
    "#### The following code reads a csv file as a text file."
   ]
  },
  {
   "cell_type": "code",
   "execution_count": 5,
   "metadata": {
    "ExecuteTime": {
     "end_time": "2021-01-02T08:07:52.561011Z",
     "start_time": "2021-01-02T08:07:52.553713Z"
    }
   },
   "outputs": [],
   "source": [
    "fo = open('username.csv')\n",
    "for i in fo.readlines():\n",
    "    print"
   ]
  },
  {
   "cell_type": "markdown",
   "metadata": {},
   "source": [
    "#### Reading CSV files\n",
    "Instead of  reading a  csv  file  as  a  text  file,  we  can  use  the  csvmodule."
   ]
  },
  {
   "cell_type": "code",
   "execution_count": 6,
   "metadata": {
    "ExecuteTime": {
     "end_time": "2021-01-02T08:08:07.361831Z",
     "start_time": "2021-01-02T08:08:07.352635Z"
    },
    "scrolled": true
   },
   "outputs": [
    {
     "name": "stdout",
     "output_type": "stream",
     "text": [
      "['Username; Identifier;First name;Last name']\n",
      "['booker12;9012;Rachel;Booker']\n",
      "['grey07;2070;Laura;Grey']\n",
      "['johnson81;4081;Craig;Johnson']\n",
      "['jenkins46;9346;Mary;Jenkins']\n",
      "['smith79;5079;Jamie;Smith']\n",
      "[]\n"
     ]
    }
   ],
   "source": [
    "import csv\n",
    "for i in csv.reader(open('username.csv')):\n",
    "    print(i)"
   ]
  },
  {
   "cell_type": "markdown",
   "metadata": {},
   "source": [
    "#### Reading Excel files"
   ]
  },
  {
   "cell_type": "markdown",
   "metadata": {},
   "source": [
    "Microsoft Excel files can be read and written using the openpyxlmodule. The openpyxl module has to be installed before we can useit. To install this module, you can go to the Python prompt and type‘pip  install openpyxl’. Alternately,  the  module can  be  installed byselecting the  Environment tab  in  Anaconda Navigator.  "
   ]
  },
  {
   "cell_type": "code",
   "execution_count": 9,
   "metadata": {
    "ExecuteTime": {
     "end_time": "2021-01-02T08:10:05.319970Z",
     "start_time": "2021-01-02T08:10:04.919340Z"
    },
    "scrolled": true
   },
   "outputs": [
    {
     "name": "stdout",
     "output_type": "stream",
     "text": [
      "0 | First Name | Last Name | Gender | Country | Age | Date | Id | \n",
      "1 | Dulce | Abril | Female | United States | 32 | 15/10/2017 | 1562 | \n",
      "2 | Mara | Hashimoto | Female | Great Britain | 25 | 16/08/2016 | 1582 | \n",
      "3 | Philip | Gent | Male | France | 36 | 21/05/2015 | 2587 | \n",
      "4 | Kathleen | Hanner | Female | United States | 25 | 15/10/2017 | 3549 | \n",
      "5 | Nereida | Magwood | Female | United States | 58 | 16/08/2016 | 2468 | \n",
      "6 | Gaston | Brumm | Male | United States | 24 | 21/05/2015 | 2554 | \n",
      "7 | Etta | Hurn | Female | Great Britain | 56 | 15/10/2017 | 3598 | \n",
      "8 | Earlean | Melgar | Female | United States | 27 | 16/08/2016 | 2456 | \n",
      "9 | Vincenza | Weiland | Female | United States | 40 | 21/05/2015 | 6548 | \n"
     ]
    }
   ],
   "source": [
    "from openpyxl import load_workbook\n",
    "wb = load_workbook('file_example_XLSX_10.xlsx')\n",
    "for sheet in wb:\n",
    " for row in sheet.values:\n",
    "     for col in row:\n",
    "         print(col, end=' | ')\n",
    "     print()"
   ]
  },
  {
   "cell_type": "markdown",
   "metadata": {},
   "source": [
    "#### User-Defined Functions\n",
    "A function is a reusable section of code that may take input and\n",
    "may or may return an output. If there is any block of code that will be\n",
    "called many times, it is advisable to convert it to a function. Calls can\n",
    "then be made to this function."
   ]
  },
  {
   "cell_type": "code",
   "execution_count": 10,
   "metadata": {
    "ExecuteTime": {
     "end_time": "2021-01-02T08:10:56.374863Z",
     "start_time": "2021-01-02T08:10:56.364035Z"
    }
   },
   "outputs": [
    {
     "name": "stdout",
     "output_type": "stream",
     "text": [
      "Area and Circumference of the circle are 78.53981633974483 31.41592653589793\n"
     ]
    }
   ],
   "source": [
    "import math\n",
    "def circleproperties(r):\n",
    " area = math.pi*r*r;\n",
    " circumference = 2*math.pi*r\n",
    " return area, circumference\n",
    "a, c = circleproperties(5) # Radius of the circle is 5\n",
    "print(\"Area and Circumference of the circle are\", a, c)"
   ]
  },
  {
   "cell_type": "code",
   "execution_count": null,
   "metadata": {},
   "outputs": [],
   "source": []
  }
 ],
 "metadata": {
  "kernelspec": {
   "display_name": "Python 3",
   "language": "python",
   "name": "python3"
  },
  "language_info": {
   "codemirror_mode": {
    "name": "ipython",
    "version": 3
   },
   "file_extension": ".py",
   "mimetype": "text/x-python",
   "name": "python",
   "nbconvert_exporter": "python",
   "pygments_lexer": "ipython3",
   "version": "3.8.5"
  },
  "toc": {
   "base_numbering": "1",
   "nav_menu": {},
   "number_sections": true,
   "sideBar": true,
   "skip_h1_title": false,
   "title_cell": "Table of Contents",
   "title_sidebar": "Contents",
   "toc_cell": false,
   "toc_position": {
    "height": "calc(100% - 180px)",
    "left": "10px",
    "top": "150px",
    "width": "165px"
   },
   "toc_section_display": true,
   "toc_window_display": true
  }
 },
 "nbformat": 4,
 "nbformat_minor": 4
}
