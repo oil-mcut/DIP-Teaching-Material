{
 "cells": [
  {
   "cell_type": "markdown",
   "metadata": {},
   "source": [
    "# Casting type data"
   ]
  },
  {
   "cell_type": "markdown",
   "metadata": {},
   "source": [
    "# Interger"
   ]
  },
  {
   "cell_type": "code",
   "execution_count": 10,
   "metadata": {
    "scrolled": false
   },
   "outputs": [
    {
     "name": "stdout",
     "output_type": "stream",
     "text": [
      "data : -3    ,type :  <class 'int'>\n",
      "data : -3.0  ,type :  <class 'float'>\n",
      "data : -3    ,type :  <class 'str'>\n",
      "data : True  ,type :  <class 'bool'>\n"
     ]
    }
   ],
   "source": [
    "data_int = -3\n",
    "print(\"data :\", data_int ,\"   ,type : \", type(data_int))\n",
    "\n",
    "data_float = float(data_int) \n",
    "data_str   = str(data_int)\n",
    "data_bool  = bool(data_int) #False if variable 0\n",
    "print(\"data :\", data_float ,\" ,type : \", type(data_float))\n",
    "print(\"data :\", data_str ,\"   ,type : \", type(data_str))\n",
    "print(\"data :\", data_bool ,\" ,type : \", type(data_bool)) "
   ]
  },
  {
   "cell_type": "markdown",
   "metadata": {},
   "source": [
    "# Float"
   ]
  },
  {
   "cell_type": "code",
   "execution_count": 12,
   "metadata": {},
   "outputs": [
    {
     "name": "stdout",
     "output_type": "stream",
     "text": [
      "data : -3.6  ,type :  <class 'float'>\n",
      "data : -3    ,type :  <class 'int'>\n",
      "data : -3.6  ,type :  <class 'str'>\n",
      "data : True  ,type :  <class 'bool'>\n"
     ]
    }
   ],
   "source": [
    "data_float = -3.6\n",
    "print(\"data :\", data_float ,\" ,type : \", type(data_float))\n",
    "\n",
    "data_int = int(data_float) \n",
    "data_str   = str(data_float)\n",
    "data_bool  = bool(data_float)\n",
    "print(\"data :\", data_int ,\"   ,type : \", type(data_int))\n",
    "print(\"data :\", data_str ,\" ,type : \", type(data_str))\n",
    "print(\"data :\", data_bool ,\" ,type : \", type(data_bool))"
   ]
  },
  {
   "cell_type": "markdown",
   "metadata": {},
   "source": [
    "# Boolean"
   ]
  },
  {
   "cell_type": "code",
   "execution_count": 40,
   "metadata": {},
   "outputs": [
    {
     "name": "stdout",
     "output_type": "stream",
     "text": [
      "data : True  ,type :  <class 'bool'>\n",
      "data : 1    ,type :  <class 'int'>\n",
      "data : True  ,type :  <class 'str'>\n",
      "data : 1.0  ,type :  <class 'float'>\n"
     ]
    }
   ],
   "source": [
    "data_bool = True\n",
    "print(\"data :\", data_bool ,\" ,type : \", type(data_bool))\n",
    "\n",
    "data_int = int(data_bool) \n",
    "data_str   = str(data_bool)\n",
    "data_float  = float(data_bool) #if bool False = 0, True = 1\n",
    "print(\"data :\", data_int ,\"   ,type : \", type(data_int))\n",
    "print(\"data :\", data_str ,\" ,type : \", type(data_str))\n",
    "print(\"data :\", data_float ,\" ,type : \", type(data_float))"
   ]
  },
  {
   "cell_type": "markdown",
   "metadata": {},
   "source": [
    "# String"
   ]
  },
  {
   "cell_type": "code",
   "execution_count": 48,
   "metadata": {
    "scrolled": false
   },
   "outputs": [
    {
     "name": "stdout",
     "output_type": "stream",
     "text": [
      "data : 10   ,type :  <class 'str'>\n",
      "data : 10    ,type :  <class 'int'>\n",
      "data : True  ,type :  <class 'bool'>\n",
      "data : 10.0  ,type :  <class 'float'>\n"
     ]
    }
   ],
   "source": [
    "data_str = \"10\" #if data was number\n",
    "print(\"data :\", data_str ,\"  ,type : \", type(data_str))\n",
    "\n",
    "data_int = int(data_str) #str must number\n",
    "data_bool   = bool(data_str) #str must number and always True even variabel \"0\"\n",
    "data_float  = float(data_str) # str must number\n",
    "print(\"data :\", data_int ,\"   ,type : \", type(data_int))\n",
    "print(\"data :\", data_bool ,\" ,type : \", type(data_bool)) \n",
    "print(\"data :\", data_float ,\" ,type : \", type(data_float))"
   ]
  },
  {
   "cell_type": "code",
   "execution_count": 46,
   "metadata": {},
   "outputs": [
    {
     "name": "stdout",
     "output_type": "stream",
     "text": [
      "data :    ,type :  <class 'str'>\n",
      "data2 : Bunga   ,type2 :  <class 'str'>\n",
      "data : False  ,type :  <class 'bool'>\n",
      "data : True  ,type :  <class 'bool'>\n"
     ]
    }
   ],
   "source": [
    "data_str = \"\" #if data empty\n",
    "data_str2 = \"Bunga\" \n",
    "\n",
    "print(\"data :\", data_str ,\"  ,type : \", type(data_str))\n",
    "print(\"data2 :\", data_str2 ,\"  ,type2 : \", type(data_str2))\n",
    "\n",
    "data_bool   = bool(data_str)\n",
    "data_bool2   = bool(data_str2) #always True even variabel \"0\"\n",
    "\n",
    "print(\"data :\", data_bool ,\" ,type : \", type(data_bool)) \n",
    "print(\"data :\", data_bool2 ,\" ,type : \", type(data_bool2)) "
   ]
  }
 ],
 "metadata": {
  "kernelspec": {
   "display_name": "Python 3",
   "language": "python",
   "name": "python3"
  },
  "language_info": {
   "codemirror_mode": {
    "name": "ipython",
    "version": 3
   },
   "file_extension": ".py",
   "mimetype": "text/x-python",
   "name": "python",
   "nbconvert_exporter": "python",
   "pygments_lexer": "ipython3",
   "version": "3.8.5"
  }
 },
 "nbformat": 4,
 "nbformat_minor": 4
}
