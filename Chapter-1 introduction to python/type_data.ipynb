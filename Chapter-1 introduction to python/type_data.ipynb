{
 "cells": [
  {
   "cell_type": "markdown",
   "metadata": {},
   "source": [
    "# Data Type"
   ]
  },
  {
   "cell_type": "markdown",
   "metadata": {},
   "source": [
    "# Interger is data with no coma"
   ]
  },
  {
   "cell_type": "code",
   "execution_count": 11,
   "metadata": {
    "scrolled": true
   },
   "outputs": [
    {
     "name": "stdout",
     "output_type": "stream",
     "text": [
      "data : 1\n",
      "type :  <class 'int'>\n"
     ]
    }
   ],
   "source": [
    "data_interger = 1 \n",
    "print(\"data :\", data_interger)\n",
    "print(\"type : \", type(data_interger))"
   ]
  },
  {
   "cell_type": "markdown",
   "metadata": {},
   "source": [
    "# Float is data with coma"
   ]
  },
  {
   "cell_type": "code",
   "execution_count": 12,
   "metadata": {},
   "outputs": [
    {
     "name": "stdout",
     "output_type": "stream",
     "text": [
      "data : 1.5\n",
      "type :  <class 'float'>\n"
     ]
    }
   ],
   "source": [
    "data_float = 1.5 #with coma\n",
    "print(\"data :\", data_float)\n",
    "print(\"type : \", type(data_float))"
   ]
  },
  {
   "cell_type": "markdown",
   "metadata": {},
   "source": [
    "# Sring is data with caracter"
   ]
  },
  {
   "cell_type": "code",
   "execution_count": 13,
   "metadata": {},
   "outputs": [
    {
     "name": "stdout",
     "output_type": "stream",
     "text": [
      "data : ucup\n",
      "type :  <class 'str'>\n"
     ]
    }
   ],
   "source": [
    "data_string = \"ucup\" # number or word and must use (\"\")\n",
    "print(\"data :\", data_string)\n",
    "print(\"type : \", type(data_string))"
   ]
  },
  {
   "cell_type": "markdown",
   "metadata": {},
   "source": [
    "# Boolean"
   ]
  },
  {
   "cell_type": "code",
   "execution_count": 14,
   "metadata": {},
   "outputs": [
    {
     "name": "stdout",
     "output_type": "stream",
     "text": [
      "data : True\n",
      "type :  <class 'bool'>\n"
     ]
    }
   ],
   "source": [
    "data_bool = True # only true and false\n",
    "print(\"data :\", data_bool)\n",
    "print(\"type : \", type(data_bool))"
   ]
  },
  {
   "cell_type": "markdown",
   "metadata": {},
   "source": [
    "# Complex"
   ]
  },
  {
   "cell_type": "code",
   "execution_count": 15,
   "metadata": {},
   "outputs": [
    {
     "name": "stdout",
     "output_type": "stream",
     "text": [
      "data : (5+2j)\n",
      "type :  <class 'complex'>\n"
     ]
    }
   ],
   "source": [
    "data_complex = complex (5,2)\n",
    "print(\"data :\", data_complex)\n",
    "print(\"type : \", type(data_complex))"
   ]
  },
  {
   "cell_type": "code",
   "execution_count": null,
   "metadata": {},
   "outputs": [],
   "source": []
  }
 ],
 "metadata": {
  "kernelspec": {
   "display_name": "Python 3",
   "language": "python",
   "name": "python3"
  },
  "language_info": {
   "codemirror_mode": {
    "name": "ipython",
    "version": 3
   },
   "file_extension": ".py",
   "mimetype": "text/x-python",
   "name": "python",
   "nbconvert_exporter": "python",
   "pygments_lexer": "ipython3",
   "version": "3.8.5"
  }
 },
 "nbformat": 4,
 "nbformat_minor": 4
}
