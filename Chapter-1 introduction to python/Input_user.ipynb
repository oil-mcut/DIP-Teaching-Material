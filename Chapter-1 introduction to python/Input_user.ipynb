{
 "cells": [
  {
   "cell_type": "markdown",
   "metadata": {},
   "source": [
    "# Every data always be Str"
   ]
  },
  {
   "cell_type": "code",
   "execution_count": 4,
   "metadata": {},
   "outputs": [
    {
     "name": "stdout",
     "output_type": "stream",
     "text": [
      "Name : mawar100\n",
      "data : mawar100 , type :  <class 'str'>\n"
     ]
    }
   ],
   "source": [
    "data = input(\"Name : \")\n",
    "print(\"data :\", data ,\", type : \",type(data))"
   ]
  },
  {
   "cell_type": "markdown",
   "metadata": {},
   "source": [
    "# int and float"
   ]
  },
  {
   "cell_type": "code",
   "execution_count": 20,
   "metadata": {
    "scrolled": false
   },
   "outputs": [
    {
     "name": "stdout",
     "output_type": "stream",
     "text": [
      "Number1 : 23\n",
      "Number2 : 14.5\n",
      "data   : True , type :  <class 'bool'>\n",
      "data2  : 14.5 , type :  <class 'float'>\n"
     ]
    }
   ],
   "source": [
    "data1 = int(input(\"Number1 : \")) #must number no coma\n",
    "data2 = float(input(\"Number2 : \"))\n",
    "print(\"data   :\", data ,\", type : \",type(data))\n",
    "print(\"data2  :\", data2 ,\", type : \",type(data2))"
   ]
  },
  {
   "cell_type": "markdown",
   "metadata": {},
   "source": [
    "# Boolean"
   ]
  },
  {
   "cell_type": "code",
   "execution_count": 17,
   "metadata": {},
   "outputs": [
    {
     "name": "stdout",
     "output_type": "stream",
     "text": [
      "Name : False\n",
      "data : True , type :  <class 'bool'>\n"
     ]
    }
   ],
   "source": [
    "data = bool(int(input(\"Name : \"))) #Must number\n",
    "print(\"data :\", data ,\", type : \",type(data))"
   ]
  }
 ],
 "metadata": {
  "kernelspec": {
   "display_name": "Python 3",
   "language": "python",
   "name": "python3"
  },
  "language_info": {
   "codemirror_mode": {
    "name": "ipython",
    "version": 3
   },
   "file_extension": ".py",
   "mimetype": "text/x-python",
   "name": "python",
   "nbconvert_exporter": "python",
   "pygments_lexer": "ipython3",
   "version": "3.8.5"
  }
 },
 "nbformat": 4,
 "nbformat_minor": 4
}
